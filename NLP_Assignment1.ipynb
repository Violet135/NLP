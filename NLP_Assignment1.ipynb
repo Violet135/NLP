{
  "nbformat": 4,
  "nbformat_minor": 0,
  "metadata": {
    "colab": {
      "name": "NLP_Assignment1.ipynb",
      "provenance": [],
      "collapsed_sections": [],
      "include_colab_link": true
    },
    "kernelspec": {
      "name": "python3",
      "display_name": "Python 3"
    }
  },
  "cells": [
    {
      "cell_type": "markdown",
      "metadata": {
        "id": "view-in-github",
        "colab_type": "text"
      },
      "source": [
        "<a href=\"https://colab.research.google.com/github/Violet135/NLP/blob/main/NLP_Assignment1.ipynb\" target=\"_parent\"><img src=\"https://colab.research.google.com/assets/colab-badge.svg\" alt=\"Open In Colab\"/></a>"
      ]
    },
    {
      "cell_type": "markdown",
      "metadata": {
        "id": "K7SQfvv_qfnc"
      },
      "source": [
        "# Assignment 1\n"
      ]
    },
    {
      "cell_type": "markdown",
      "metadata": {
        "id": "rhRj0trlq7JN"
      },
      "source": [
        "## Install and Import libraries"
      ]
    },
    {
      "cell_type": "code",
      "metadata": {
        "id": "A6ITOs-47YSd"
      },
      "source": [
        "import numpy as np\n",
        "import pandas as pd\n",
        "import matplotlib.pyplot as plt\n",
        "%matplotlib inline"
      ],
      "execution_count": null,
      "outputs": []
    },
    {
      "cell_type": "code",
      "metadata": {
        "id": "Lm5n-soOdCAs"
      },
      "source": [
        "import re"
      ],
      "execution_count": null,
      "outputs": []
    },
    {
      "cell_type": "markdown",
      "metadata": {
        "id": "XYLiP7bHqpTa"
      },
      "source": [
        "## Connect with Google Drive and import dataset"
      ]
    },
    {
      "cell_type": "code",
      "metadata": {
        "id": "6kwuBS9wjo93",
        "outputId": "ca49a8e3-a834-450a-facc-4fa2f233721b",
        "colab": {
          "base_uri": "https://localhost:8080/",
          "height": 72
        }
      },
      "source": [
        "from google.colab import drive\n",
        "\n",
        "drive.mount('/content/drive', force_remount=True)\n",
        "FOLDERNAME = \"Courses/NLP/Assignment1/\"\n",
        "%cd drive/My\\ Drive\n",
        "%cp -r $FOLDERNAME ../../\n",
        "%cd ../../"
      ],
      "execution_count": null,
      "outputs": [
        {
          "output_type": "stream",
          "text": [
            "Mounted at /content/drive\n",
            "/content/drive/My Drive\n",
            "/content\n"
          ],
          "name": "stdout"
        }
      ]
    },
    {
      "cell_type": "code",
      "metadata": {
        "id": "RkYcrwVwtM2Q",
        "outputId": "e4ec8b6e-87b0-4445-93a5-5af257157419",
        "colab": {
          "base_uri": "https://localhost:8080/",
          "height": 72
        }
      },
      "source": [
        "!unzip Assignment1/datasets/corpus.zip -d Assignment1/datasets/"
      ],
      "execution_count": null,
      "outputs": [
        {
          "output_type": "stream",
          "text": [
            "Archive:  Assignment1/datasets/corpus.zip\n",
            "  inflating: Assignment1/datasets/valid.rar  \n",
            "  inflating: Assignment1/datasets/train.rar  \n"
          ],
          "name": "stdout"
        }
      ]
    },
    {
      "cell_type": "code",
      "metadata": {
        "id": "PGEQdDkzwuvB",
        "outputId": "9abdbd53-9eb6-4ed7-8007-c065b5ac5b1c",
        "colab": {
          "base_uri": "https://localhost:8080/",
          "height": 311
        }
      },
      "source": [
        "!unrar x 'Assignment1/datasets/valid.rar' 'Assignment1/datasets/'\n",
        "!unrar x 'Assignment1/datasets/train.rar' 'Assignment1/datasets/'"
      ],
      "execution_count": null,
      "outputs": [
        {
          "output_type": "stream",
          "text": [
            "\n",
            "UNRAR 5.50 freeware      Copyright (c) 1993-2017 Alexander Roshal\n",
            "\n",
            "\n",
            "Extracting from Assignment1/datasets/valid.rar\n",
            "\n",
            "Extracting  Assignment1/datasets/valid.json                              \b\b\b\b 42%\b\b\b\b 84%\b\b\b\b 99%\b\b\b\b\b  OK \n",
            "All OK\n",
            "\n",
            "UNRAR 5.50 freeware      Copyright (c) 1993-2017 Alexander Roshal\n",
            "\n",
            "\n",
            "Extracting from Assignment1/datasets/train.rar\n",
            "\n",
            "Extracting  Assignment1/datasets/train.json                              \b\b\b\b  6%\b\b\b\b 12%\b\b\b\b 19%\b\b\b\b 25%\b\b\b\b 32%\b\b\b\b 38%\b\b\b\b 45%\b\b\b\b 51%\b\b\b\b 58%\b\b\b\b 64%\b\b\b\b 71%\b\b\b\b 77%\b\b\b\b 84%\b\b\b\b 90%\b\b\b\b 96%\b\b\b\b 99%\b\b\b\b\b  OK \n",
            "All OK\n"
          ],
          "name": "stdout"
        }
      ]
    },
    {
      "cell_type": "code",
      "metadata": {
        "id": "q_16E4s_2b7i",
        "outputId": "31b03104-09bb-4482-f5ed-6ec9bd59be1a",
        "colab": {
          "base_uri": "https://localhost:8080/",
          "height": 54
        }
      },
      "source": [
        "with open('Assignment1/datasets/train.json', 'rU') as f:\n",
        "   train = pd.read_json('Assignment1/datasets/train.json', lines=True, encoding='utf-8')"
      ],
      "execution_count": null,
      "outputs": [
        {
          "output_type": "stream",
          "text": [
            "/usr/local/lib/python3.6/dist-packages/ipykernel_launcher.py:1: DeprecationWarning: 'U' mode is deprecated\n",
            "  \"\"\"Entry point for launching an IPython kernel.\n"
          ],
          "name": "stderr"
        }
      ]
    },
    {
      "cell_type": "code",
      "metadata": {
        "id": "AlGOZ4hx1sT5",
        "outputId": "8f8819e1-4100-454d-ac7e-5c53460db9de",
        "colab": {
          "base_uri": "https://localhost:8080/",
          "height": 54
        }
      },
      "source": [
        "with open('Assignment1/datasets/valid.json', 'rU') as f:\n",
        "   valid = pd.read_json('Assignment1/datasets/valid.json', lines=True, encoding='utf-8')"
      ],
      "execution_count": null,
      "outputs": [
        {
          "output_type": "stream",
          "text": [
            "/usr/local/lib/python3.6/dist-packages/ipykernel_launcher.py:1: DeprecationWarning: 'U' mode is deprecated\n",
            "  \"\"\"Entry point for launching an IPython kernel.\n"
          ],
          "name": "stderr"
        }
      ]
    },
    {
      "cell_type": "code",
      "metadata": {
        "id": "1CAKTug69Ks1",
        "outputId": "e0b8ef95-c938-4756-d72d-6068a4a1e7ca",
        "colab": {
          "base_uri": "https://localhost:8080/",
          "height": 269
        }
      },
      "source": [
        "train.head()"
      ],
      "execution_count": null,
      "outputs": [
        {
          "output_type": "execute_result",
          "data": {
            "text/html": [
              "<div>\n",
              "<style scoped>\n",
              "    .dataframe tbody tr th:only-of-type {\n",
              "        vertical-align: middle;\n",
              "    }\n",
              "\n",
              "    .dataframe tbody tr th {\n",
              "        vertical-align: top;\n",
              "    }\n",
              "\n",
              "    .dataframe thead th {\n",
              "        text-align: right;\n",
              "    }\n",
              "</style>\n",
              "<table border=\"1\" class=\"dataframe\">\n",
              "  <thead>\n",
              "    <tr style=\"text-align: right;\">\n",
              "      <th></th>\n",
              "      <th>0</th>\n",
              "      <th>1</th>\n",
              "      <th>2</th>\n",
              "      <th>3</th>\n",
              "      <th>4</th>\n",
              "      <th>5</th>\n",
              "      <th>6</th>\n",
              "      <th>7</th>\n",
              "      <th>8</th>\n",
              "      <th>9</th>\n",
              "      <th>10</th>\n",
              "      <th>11</th>\n",
              "      <th>12</th>\n",
              "      <th>13</th>\n",
              "      <th>14</th>\n",
              "      <th>15</th>\n",
              "      <th>16</th>\n",
              "      <th>17</th>\n",
              "      <th>18</th>\n",
              "      <th>19</th>\n",
              "      <th>20</th>\n",
              "      <th>21</th>\n",
              "      <th>22</th>\n",
              "      <th>23</th>\n",
              "      <th>24</th>\n",
              "      <th>25</th>\n",
              "      <th>26</th>\n",
              "      <th>27</th>\n",
              "      <th>28</th>\n",
              "      <th>29</th>\n",
              "      <th>30</th>\n",
              "      <th>31</th>\n",
              "      <th>32</th>\n",
              "      <th>33</th>\n",
              "      <th>34</th>\n",
              "      <th>35</th>\n",
              "      <th>36</th>\n",
              "      <th>37</th>\n",
              "      <th>38</th>\n",
              "      <th>39</th>\n",
              "      <th>...</th>\n",
              "      <th>99960</th>\n",
              "      <th>99961</th>\n",
              "      <th>99962</th>\n",
              "      <th>99963</th>\n",
              "      <th>99964</th>\n",
              "      <th>99965</th>\n",
              "      <th>99966</th>\n",
              "      <th>99967</th>\n",
              "      <th>99968</th>\n",
              "      <th>99969</th>\n",
              "      <th>99970</th>\n",
              "      <th>99971</th>\n",
              "      <th>99972</th>\n",
              "      <th>99973</th>\n",
              "      <th>99974</th>\n",
              "      <th>99975</th>\n",
              "      <th>99976</th>\n",
              "      <th>99977</th>\n",
              "      <th>99978</th>\n",
              "      <th>99979</th>\n",
              "      <th>99980</th>\n",
              "      <th>99981</th>\n",
              "      <th>99982</th>\n",
              "      <th>99983</th>\n",
              "      <th>99984</th>\n",
              "      <th>99985</th>\n",
              "      <th>99986</th>\n",
              "      <th>99987</th>\n",
              "      <th>99988</th>\n",
              "      <th>99989</th>\n",
              "      <th>99990</th>\n",
              "      <th>99991</th>\n",
              "      <th>99992</th>\n",
              "      <th>99993</th>\n",
              "      <th>99994</th>\n",
              "      <th>99995</th>\n",
              "      <th>99996</th>\n",
              "      <th>99997</th>\n",
              "      <th>99998</th>\n",
              "      <th>99999</th>\n",
              "    </tr>\n",
              "  </thead>\n",
              "  <tbody>\n",
              "    <tr>\n",
              "      <th>0</th>\n",
              "      <td>به گزارش\\r\\nگروه وبگردی باشگاه خبرنگاران جوان\\...</td>\n",
              "      <td>به گزارش خبرنگار\\r\\nگروه استان‌های\\r\\n\\r\\nباشگ...</td>\n",
              "      <td>به گزارش خبرنگار\\r\\nگروه استان‌های\\r\\n\\r\\nباشگ...</td>\n",
              "      <td>به گزارش\\r\\nگروه استان‌های\\r\\n\\r\\nباشگاه خبرنگ...</td>\n",
              "      <td>رضوی گفت: اکیپ‌های گشت و بازرسی همچون گذشته مس...</td>\n",
              "      <td>به گزارش\\r\\nگروه استان‌های\\r\\n\\r\\nباشگاه خبرنگ...</td>\n",
              "      <td>به گزارش\\r\\nخبرنگار فوتبال و فوتسال\\r\\n\\r\\nگرو...</td>\n",
              "      <td>به گزارش\\r\\nخبرنگار فوتبال و فوتسال\\r\\n\\r\\nگرو...</td>\n",
              "      <td>به گزارش\\r\\nگروه استان‌های\\r\\n\\r\\nباشگاه خبرنگ...</td>\n",
              "      <td>به گزارش\\r\\nگروه استان‌های\\r\\n\\r\\nباشگاه خبرنگ...</td>\n",
              "      <td>به گزارش\\r\\nگروه فیلم و صوت\\r\\n\\r\\nباشگاه خبرن...</td>\n",
              "      <td>به گزارش\\r\\n\\r\\nگروه استان‌های\\r\\n\\r\\nباشگاه خ...</td>\n",
              "      <td>به گزارش\\r\\nگروه استان‌های\\r\\n\\r\\nباشگاه خبرنگ...</td>\n",
              "      <td>به گزارش\\r\\nگروه اجتماعی باشگاه خبرنگاران جوان...</td>\n",
              "      <td>به گزارش\\r\\nگروه ورزش باشگاه خبرنگاران جوان\\r\\...</td>\n",
              "      <td>مدیر عامل جمعیت هلال احمر استان کردستان\\r\\nدر ...</td>\n",
              "      <td>جذاب‌ترین و پربازدیدترین فیلم‌های\\r\\nگروه فیلم...</td>\n",
              "      <td>به گزارش\\r\\nگروه بین‌الملل باشگاه خبرنگاران جو...</td>\n",
              "      <td>به گزارش\\r\\nگروه استان‌های\\r\\nباشگاه خبرنگاران...</td>\n",
              "      <td>به گزارش\\r\\nگروه وبگردی باشگاه خبرنگاران جوان\\...</td>\n",
              "      <td>به گزارش\\r\\n\\r\\nگروه فیلم و صوت\\r\\n\\r\\nباشگاه ...</td>\n",
              "      <td>به گزارش\\r\\nگروه اجتماعی باشگاه خبرنگاران جوان...</td>\n",
              "      <td>حجت الاسلام مسعود قربانی معاون فرهنگی اوقاف و ...</td>\n",
              "      <td>به گزارش خبرنگار\\r\\nگروه استان‌های\\r\\n\\r\\nباشگ...</td>\n",
              "      <td>به گزارش\\r\\nگروه وبگردی باشگاه خبرنگاران جوان\\...</td>\n",
              "      <td>به گزارش\\r\\n\\r\\nگروه اقتصادی باشگاه خبرنگاران ...</td>\n",
              "      <td>به گزارش\\r\\nگروه وبگردی باشگاه خبرنگاران جوان\\...</td>\n",
              "      <td>به گزارش\\r\\nگروه استان‌های\\r\\nباشگاه خبرنگاران...</td>\n",
              "      <td>به گزارش خبرنگار\\r\\nحوزه دفاعی امنیتی\\r\\n\\r\\nگ...</td>\n",
              "      <td>محمد جواد صفاران کارشناس و مسئول خانه نجوم مشه...</td>\n",
              "      <td>به گزارش خبرنگار\\r\\nحوزه اخبار داغ\\r\\n\\r\\nگروه...</td>\n",
              "      <td>به گزارش\\r\\nگروه استان‌های\\r\\nباشگاه خبرنگاران...</td>\n",
              "      <td>رضا جهینی مدیر امور آب مهاباد در گفتگو با خبرن...</td>\n",
              "      <td>یوسفی معاون راهداری اداره کل راهداری و\\r\\nحمل ...</td>\n",
              "      <td>به گزارش\\r\\n\\r\\nگروه وبگردی باشگاه خبرنگاران ج...</td>\n",
              "      <td>به گزارش\\r\\nگروه بین‌الملل باشگاه خبرنگاران جو...</td>\n",
              "      <td>به گزارش\\r\\n\\r\\nخبرنگار دنیای ورزش گروه ورزشی ...</td>\n",
              "      <td>به گزارش\\r\\n\\r\\nگروه اقتصادی باشگاه خبرنگاران ...</td>\n",
              "      <td>به گزارش خبرنگار\\r\\nگروه استان‌های\\r\\n\\r\\nباشگ...</td>\n",
              "      <td>به گزارش خبرنگار\\r\\nگروه استان‌های\\r\\n\\r\\nباشگ...</td>\n",
              "      <td>...</td>\n",
              "      <td>به گزارش خبرگزاری فارس از شهرستان نور، حجت‌الا...</td>\n",
              "      <td>به گزارش خبرگزاری فارس از سمنان، سیدمجتبی اشرف...</td>\n",
              "      <td>به گزارش خبرگزاری فارس از اهواز، عصر امروز با ...</td>\n",
              "      <td>به گزارش گروه اجتماعی_اقتصادی خبرگزاری فارس اس...</td>\n",
              "      <td>به گزارش خبرگزاری فارس از اراک، اسماعیل جبارزا...</td>\n",
              "      <td>به گزارش خبرگزاری فارس، الکساندر\\r\\nچفرین\\r\\nر...</td>\n",
              "      <td>پیشرفت صنعت دندانپزشکی ایران در سال‌های گذشته ...</td>\n",
              "      <td>به گزارش خبرگزاری فارس از زنجان، مرتضی تمجیدی ...</td>\n",
              "      <td>به گزارش خبرنگار اقتصادی\\r\\nخبرگزاری فارس\\r\\n،...</td>\n",
              "      <td>به گزارش خبرگزاری فارس از بروجرد،احمد صافی ظهر...</td>\n",
              "      <td>به گزارش\\r\\nخبرگزاری فارس\\r\\nبه نقل از مرکز\\r\\...</td>\n",
              "      <td>به گزارش خبرگزاری فارس، سرنا ویلیامز و اندی ما...</td>\n",
              "      <td>به گزارش\\r\\nخبرگزاری فارس\\r\\nاز تبریز، مسابقات...</td>\n",
              "      <td>به گزارش خبرگزاری فارس از اصفهان، شهرام عروف‌ز...</td>\n",
              "      <td>به گزارش\\r\\nخبرگزاری فارس\\r\\n، نخستین نشست یک ...</td>\n",
              "      <td>به گزارش خبرگزاری فارس از سمنان، دو طرح فرهنگی...</td>\n",
              "      <td>به گزارش خبرگزاری فارس از اراک به نقل از پایگا...</td>\n",
              "      <td>به گزارش خبرگزاری فارس به نقل از پایگاه خبری و...</td>\n",
              "      <td>به گزارش خبرگزاری فارس از ارومیه، محمد حضرت‌پو...</td>\n",
              "      <td>به گزارش خبرگزاری فارس، دور نهم و پایانی رقابت...</td>\n",
              "      <td>به گزارش\\r\\nخبرگزاری فارس\\r\\nاز کرمان، حجت‌الا...</td>\n",
              "      <td>به گزارش خبرگزاری فارس، نیمار امروز در مصاحبه ...</td>\n",
              "      <td>به گزارش خبرگزاری فارس، مرحله اول رقابت‌های ان...</td>\n",
              "      <td>به گزارش خبرگزاری فارس از شهرستان سیمرغ، سیدمح...</td>\n",
              "      <td>به گزارش خبرگزاری فارس از کرمان، حجت‌الاسلام ک...</td>\n",
              "      <td>به گزارش خبرگزاری فارس از همدان، نمازجمعه این ...</td>\n",
              "      <td>علیرضا نصر اصفهانی امروز در گفت‌وگو با خبرنگار...</td>\n",
              "      <td>به گزارش خبرگزاری فارس از دزفول، صادق حقیقت پو...</td>\n",
              "      <td>مجتبی شاکری در گفت‌وگو با خبرنگار فارس در خلیل...</td>\n",
              "      <td>به گزارش خبرگزاری فارس از خواف، محمد سعیدی‌کیا...</td>\n",
              "      <td>مهرلله رخشانی‌مهر در گفت‌وگو با خبرنگار فارس د...</td>\n",
              "      <td>به گزارش\\r\\nخبرگزاری فارس\\r\\nبه نقل از اداره ک...</td>\n",
              "      <td>به گزارش\\r\\nخبرگزاری فارس\\r\\nبه نقل از شبکه اخ...</td>\n",
              "      <td>به گزارش خبرنگار سینمایی\\r\\nخبرگزاری فارس\\r\\n،...</td>\n",
              "      <td>به گزارش\\r\\nخبرگزاری فارس\\r\\nاز تبریز، زاکری ا...</td>\n",
              "      <td>به گزارش\\r\\nخبرگزاری فارس\\r\\nاز قزوین آیت‌الله...</td>\n",
              "      <td>به گزارش\\r\\nخبرگزاری فارس\\r\\nاز دماوند، دماوند...</td>\n",
              "      <td>به گزارش خبرگزاری فارس، رسانه‌های بریتانیایی د...</td>\n",
              "      <td>به گزارش خبرگزاری فارس از رودبار، حجت‌الاسلام‌...</td>\n",
              "      <td>به گزارش خبرگزاری فارس از پاکدشت، حجت‌الاسلام ...</td>\n",
              "    </tr>\n",
              "  </tbody>\n",
              "</table>\n",
              "<p>1 rows × 100000 columns</p>\n",
              "</div>"
            ],
            "text/plain": [
              "                                               0      ...                                              99999\n",
              "0  به گزارش\\r\\nگروه وبگردی باشگاه خبرنگاران جوان\\...  ...  به گزارش خبرگزاری فارس از پاکدشت، حجت‌الاسلام ...\n",
              "\n",
              "[1 rows x 100000 columns]"
            ]
          },
          "metadata": {
            "tags": []
          },
          "execution_count": 8
        }
      ]
    },
    {
      "cell_type": "code",
      "metadata": {
        "id": "hxb1oSwUs4k3",
        "outputId": "3b2e2876-c2be-414a-9af8-94479bde2f7d",
        "colab": {
          "base_uri": "https://localhost:8080/",
          "height": 91
        }
      },
      "source": [
        "train[135][0]"
      ],
      "execution_count": null,
      "outputs": [
        {
          "output_type": "execute_result",
          "data": {
            "application/vnd.google.colaboratory.intrinsic+json": {
              "type": "string"
            },
            "text/plain": [
              "'به گزارش خبرنگار\\r\\nگروه استان\\u200cهای\\r\\n\\r\\nباشگاه خبرنگاران جوان\\r\\n\\r\\nاز\\r\\nمشهد\\r\\n،سرهنگ حسین دهقان پور فرمانده انتظامی شهرستان نیشابور گفت: با هدف ارتقای\\r\\nفرهنگ عبور و مرور،\\r\\nروان سازی ترافیک و ایجاد انضباط ترافیکی به ویژه در\\r\\nمناطق گردشگری و تاریخی\\r\\nاطراف آرامگاه\\u200cهای خیام و عطار پلیس دوچرخه سوار راه اندازی شده است.\\r\\nوی افزود: وظیفه\\r\\nپلیس دوچرخه سوار\\r\\nراهنمایی و رانندگی در این محدوده\\u200cها برخورد با تخلفات است و بسیار خوب است که پلیس در زمینه استفاده از این وسیله پاک پیشقدم شده است.\\r\\nانتهای پیام//م. م\\r\\n\\r\\n\\r\\nطرح\\u200cهای جدید پلیس راهنمایی و رانندگی نیشابور'"
            ]
          },
          "metadata": {
            "tags": []
          },
          "execution_count": 9
        }
      ]
    },
    {
      "cell_type": "code",
      "metadata": {
        "id": "i-WlDCMz1QOE"
      },
      "source": [
        "# Because waiting for the train set to run was a lot\n",
        "\n",
        "mask = list(range(1000))\n",
        "train_try = train[mask]\n",
        "\n",
        "train = train_try "
      ],
      "execution_count": null,
      "outputs": []
    },
    {
      "cell_type": "markdown",
      "metadata": {
        "id": "BHvLM0hluYe9"
      },
      "source": [
        "# Language Model Class\n",
        "\n"
      ]
    },
    {
      "cell_type": "code",
      "metadata": {
        "id": "k3yZmjS0hqvp"
      },
      "source": [
        "class LanguageModel():\n",
        "\n",
        "    def __init__(self, data, n=2, smoothing_type=False): \n",
        "        # I replaced the corpus_dir with corpus because I read data in section 1\n",
        "        self.n = n\n",
        "        self.corpus = self.read_data(data)\n",
        "        self.smoothing_type = smoothing_type\n",
        "        self.uni = self.train_unigram()\n",
        "        # Section 1.6\n",
        "        # self.corpus = self.replace_with_UNK()  # There is BUG :( so I don't run this part\n",
        "        self.bi = False\n",
        "        if n==2:\n",
        "            self.bi = self.train_bigram()\n",
        "        self.tri = False\n",
        "        if n==3:\n",
        "            self.tri = self.train_trigram()\n",
        "    def read_data(self, data):\n",
        "        # in: training data\n",
        "        # out: create the corpus\n",
        "        corpus = []\n",
        "        for index in np.arange(data.shape[1]):\n",
        "            if type(data[index][0]) != str:\n",
        "                continue\n",
        "            # print(data[index][0])\n",
        "            all_sentences = self.split_paragraph(data[index][0])\n",
        "            for sentence in all_sentences:\n",
        "                corpus = corpus + (self.normalize(self.tokenize(sentence)))\n",
        "        return corpus\n",
        "\n",
        "    def tokenize(self, sentence):\n",
        "        # in: a srting \n",
        "        # out: a list of words\n",
        "        return sentence.split(' ')\n",
        "    \n",
        "    def split_paragraph(self, paragraph):\n",
        "        # in: a strig that contains some sentences\n",
        "        # split a paragraph to its sentences by dot and markquestion(persian)\n",
        "        # in this part I just split it by dot and absolutely it has bug because of the sentences ends in question mark\n",
        "        # return re.split('. ؟', paragraph)\n",
        "        return re.findall('[^.]+.', paragraph)\n",
        "\n",
        "    def normalize(self, sentence):\n",
        "        # in: list of words\n",
        "        # apply the changes \n",
        "        # out: a list of words with tags of start and end\n",
        "        puncs = ['!', '،', ':', '»', '«', '\"', 'ـ', '؛', ',', '*', '\"', \"'\"]\n",
        "        for index1, i in enumerate(sentence):\n",
        "                    # Section 1.1\n",
        "                    if i in puncs:\n",
        "                        sentence.remove(i)\n",
        "                        continue\n",
        "                    if self.isEnglish(i) and i!='.':\n",
        "                        sentence.remove(i)\n",
        "                        continue\n",
        "                    # Section 1.2\n",
        "                    if i.isdigit():\n",
        "                        sentence[index1]=\"N\"         \n",
        "                        continue\n",
        "                    sentence[index1] = re.sub('((2[0-4]|[0-1]?[0-9]):([0-5][0-9]|[0-9]))', 'N', i)\n",
        "                    sentence[index1] = re.sub('((۲[۰-۴]|[۰-۱]?[۰-۹]):([۰-۵][۰-۹]|[۰-۹]))', 'N', i)\n",
        "        return ['<s>'] + sentence + ['</s>']\n",
        "    \n",
        "    def isEnglish(self, s):\n",
        "        try:\n",
        "            s.encode(encoding='utf-8').decode('ascii')\n",
        "        except UnicodeDecodeError:\n",
        "            return False\n",
        "        else:\n",
        "            return True\n",
        "    \n",
        "    def number_of_all_tokens(self):\n",
        "        # Section 1.3\n",
        "        return len(self.corpus)\n",
        "    \n",
        "    def number_of_all_unique_tokens(self):\n",
        "        # Section 1.3\n",
        "        return len(self.uni[0])\n",
        "\n",
        "    def most_frequent_words(self, number = 50):\n",
        "        # Section 1.4 (Frecuency of words)\n",
        "        sorted_dict = sorted(self.uni[1].items(), key=lambda x: x[1], reverse=True)\n",
        "        most_frequent = sorted_dict[:number]\n",
        "        most_frequent = pd.DataFrame(np.array([list(item) for item in most_frequent]))\n",
        "        most_frequent[1] = most_frequent[1].apply(lambda x: int(x))\n",
        "        return most_frequent\n",
        "\n",
        "    def write_frequent(self, number):\n",
        "        # Section 1.4\n",
        "        words = (self.most_frequent_words(number))[0]\n",
        "        with open('/gdrive/My Drive/most_frequent.txt', 'w') as f:\n",
        "            for i in words:\n",
        "                string = i + '\\n'\n",
        "                f.write(string)\n",
        "        # !cat '/gdrive/My Drive/most_frequent.txt'\n",
        "        print('Done!')\n",
        "\n",
        "\n",
        "    def replace_with_UNK(self, corpus=False):\n",
        "        # Section 1.6\n",
        "        most_frequent = self.most_frequent_words()[0]\n",
        "        new = []\n",
        "        if not corpus:\n",
        "            corpus = self.corpus\n",
        "        for i in corpus:\n",
        "            if i in most_frequent:\n",
        "                new.append(i)\n",
        "            else:\n",
        "                new.append('UNK')\n",
        "        return new\n",
        "    \n",
        "    def write_sentences(self):\n",
        "        # Section: 1.7\n",
        "        print('Not yet!')\n",
        "\n",
        "    def train(self): \n",
        "        if self.n==1:\n",
        "            return self.train_unigram()\n",
        "        if self.n==2:\n",
        "            return self.train_bigram()\n",
        "        if self.n == 3:\n",
        "            return self.train_trigram()\n",
        "\n",
        "    def train_unigram(self, corpus=False):\n",
        "        # in: a corpus that contains words\n",
        "        # create a list of uni and a dictionary of frequency of words\n",
        "        dictionary = {'N': 0, '<s>':0, '</s>':0} # unique words with frequency\n",
        "        if not corpus:\n",
        "            corpus = self.corpus\n",
        "        for word in corpus:\n",
        "            if word in dictionary:\n",
        "                dictionary[word] += 1\n",
        "            else: dictionary[word] = 1\n",
        "        return corpus, dictionary\n",
        "\n",
        "    def train_bigram(self, corpus=False):\n",
        "        # in: a corpus that contains words\n",
        "        # create a list of bigrams and a dictionary of frequency of bigrams\n",
        "        if not corpus:\n",
        "            corpus=self.corpus\n",
        "        bigrams = []\n",
        "        bigrams_table = {}\n",
        "        # corpus= self.corpus\n",
        "        for i in range(len(corpus)-1):\n",
        "            if i < len(corpus) - 1 : \n",
        "              bigrams.append((corpus[i], corpus[i+1]))\n",
        "              if (corpus[i], corpus[i+1]) in bigrams_table:\n",
        "                  bigrams_table[(corpus[i], corpus[i+1])] += 1\n",
        "              else:\n",
        "                  bigrams_table[(corpus[i], corpus[i+1])] = 1\n",
        "        return bigrams, bigrams_table\n",
        "\n",
        "    def train_trigram(self, corpus=False):\n",
        "        # in: a corpus that contains words\n",
        "        # create a list of trigrams and a dictionary of frequency of trigrams\n",
        "        if not corpus:\n",
        "            corpus=self.corpus\n",
        "        trigrams = []\n",
        "        trigrams_table = {}\n",
        "        for i in range(len(corpus)-2):\n",
        "            if i < len(corpus) - 2 : \n",
        "              trigrams.append((corpus[i], corpus[i+1], corpus[i+2]))\n",
        "              if (corpus[i], corpus[i+1], corpus[i+2]) in trigrams_table:\n",
        "                  trigrams_table[(corpus[i], corpus[i+1], corpus[i+2])] += 1\n",
        "              else:\n",
        "                  trigrams_table[(corpus[i], corpus[i+1], corpus[i+2])] = 1\n",
        "        return trigrams, trigrams_table\n",
        "\n",
        "    def prob(self, sentence, n):\n",
        "        probability = 1.0\n",
        "        sentence = self.normalize(self.tokenize(sentence))\n",
        "        # corpus_uni, dictionary_uni = self.train_unigram()\n",
        "        if n==1:\n",
        "            sentence_uni = self.train_unigram(corpus=sentence)[0]\n",
        "            for ngram in sentence_uni:\n",
        "                p = self.smoothing(n, ngram)\n",
        "                probability *= p#(ngram=ngram, n=1, tuple_of_corpus=self.train_unigram(), delta=0)\n",
        "        if n==2:\n",
        "            sentence_bi = self.train_bigram(corpus=sentence)[0]\n",
        "            for ngram in sentence_bi:\n",
        "                probability *= self.smoothing(n, ngram)\n",
        "        if n==3:\n",
        "            sentence_tri = self.train_trigram(corpus=sentence)[0]\n",
        "            for ngram in sentence_tri:\n",
        "                probability *= self.smoothing(n, ngram)\n",
        "        return probability\n",
        "\n",
        "\n",
        "    def smoothing(self, n, ngram):\n",
        "        # Redirect to the correct smoothing method\n",
        "        if not self.smoothing_type:\n",
        "            return self.smoothing_laplace(n, ngram, delta=0)\n",
        "        if self.smoothing_type == 'laplace':\n",
        "            return self.smoothing_laplace(n, ngram, delta=1)\n",
        "        if self.smoothing_type == 'kneser-ney':\n",
        "            return self.smoothing_kneser(n, ngram)\n",
        "\n",
        "    def smoothing_laplace(self, n, ngram, delta = 1):\n",
        "        if n==1:\n",
        "            count = 0\n",
        "            if ngram in self.uni[1] :\n",
        "                count = self.uni[1][ngram]\n",
        "            numerator = delta + count #corpus.count(ngram)\n",
        "            denominator = delta*self.number_of_all_unique_tokens() + len(self.corpus)#corpus.prefix_count(ngram)\n",
        "            p = (numerator / float(denominator))\n",
        "            return p\n",
        "        if n==2:\n",
        "            count = 0\n",
        "            if ngram in self.bi[1] :\n",
        "                count = self.bi[1][ngram]\n",
        "            numerator = delta + count\n",
        "            denominator = delta*self.number_of_all_unique_tokens() + self.uni[1][ngram[0]]#corpus.prefix_count(ngram)\n",
        "            p = (numerator / float(denominator))\n",
        "            return p\n",
        "        return 0\n",
        "\n",
        "    def smoothing_kneser(self, ngram, n):\n",
        "        print('Not yet!')\n",
        "        return 0\n",
        "\n",
        "    def generate(self, sentence, n):\n",
        "        sentence = self.normalize(self.tokenize(sentence))\n",
        "        if n==1:\n",
        "            return self.most_frequent_words()[0][0]\n",
        "        # if n==2:\n",
        "        #     return 2\n",
        "        # if n==3:\n",
        "        #     return 3\n",
        "        return n\n",
        "\n",
        "    def evaluate(self):\n",
        "        pass"
      ],
      "execution_count": null,
      "outputs": []
    },
    {
      "cell_type": "markdown",
      "metadata": {
        "id": "EuaRUQbzAKsH"
      },
      "source": [
        "# Run "
      ]
    },
    {
      "cell_type": "code",
      "metadata": {
        "id": "Vdo9-HEkKHf_",
        "outputId": "0b002db1-49b3-41b3-be08-d78ebe9bf90b",
        "colab": {
          "base_uri": "https://localhost:8080/",
          "height": 35
        }
      },
      "source": [
        "# Writing to text file \n",
        "from google.colab import drive\n",
        "drive.mount('/gdrive')"
      ],
      "execution_count": null,
      "outputs": [
        {
          "output_type": "stream",
          "text": [
            "Mounted at /gdrive\n"
          ],
          "name": "stdout"
        }
      ]
    },
    {
      "cell_type": "code",
      "metadata": {
        "id": "qaPgRwLFFBhQ",
        "outputId": "023cf195-1206-4b43-d72f-865dcb8622a0",
        "colab": {
          "base_uri": "https://localhost:8080/",
          "height": 201
        }
      },
      "source": [
        "ml = LanguageModel(train, n=1)\n",
        "\n",
        "# Section 1.3\n",
        "print()\n",
        "print('- - - - - - - Section 1.3')\n",
        "print('Number of all tokens:\\t',ml.number_of_all_tokens())\n",
        "print('Number of unique tokens:', ml.number_of_all_unique_tokens())\n",
        "\n",
        "# Section 1.4\n",
        "print()\n",
        "print('- - - - - - - Section 1.4')\n",
        "ml.write_frequent(number = 10000)\n",
        "\n",
        "# Section 1.5\n",
        "print()\n",
        "print('- - - - - - - Section 1.5')\n",
        "print((np.sum(ml.most_frequent_words(number=10000)[1]+0.0)/(ml.number_of_all_tokens())*100), ' %')"
      ],
      "execution_count": null,
      "outputs": [
        {
          "output_type": "stream",
          "text": [
            "\n",
            "- - - - - - - Section 1.3\n",
            "Number of all tokens:\t 334428\n",
            "Number of unique tokens: 334428\n",
            "\n",
            "- - - - - - - Section 1.4\n",
            "Done!\n",
            "\n",
            "- - - - - - - Section 1.5\n",
            "91.47708923893933  %\n"
          ],
          "name": "stdout"
        }
      ]
    },
    {
      "cell_type": "code",
      "metadata": {
        "id": "nUPTyjbPUGvw"
      },
      "source": [
        "# # Section 1.7\n",
        "# print()\n",
        "# print('- - - - - - - Section 1.7')\n"
      ],
      "execution_count": null,
      "outputs": []
    },
    {
      "cell_type": "code",
      "metadata": {
        "id": "npSwFOXBKLs_",
        "outputId": "b9a1d329-7f07-4f69-85ee-21955db5f1ea",
        "colab": {
          "base_uri": "https://localhost:8080/",
          "height": 873
        }
      },
      "source": [
        "# Section: 1.8 (Power law)\n",
        "most = ml.most_frequent_words()\n",
        "y = np.arange(1, most.shape[0]+1)\n",
        "x = np.array(most[1])\n",
        "\n",
        "fig, axs = plt.subplots(2, figsize=(8,12))\n",
        "fig.suptitle(\"Power law for word's frequency\")\n",
        "axs[0].plot(x, y)\n",
        "axs[1].plot(np.log(x), np.log(y))\n",
        "plt.tight_layout()"
      ],
      "execution_count": null,
      "outputs": [
        {
          "output_type": "display_data",
          "data": {
            "image/png": "[encoded data removed]",
            "text/plain": [
              "<Figure size 576x864 with 2 Axes>"
            ]
          },
          "metadata": {
            "tags": [],
            "needs_background": "light"
          }
        }
      ]
    },
    {
      "cell_type": "code",
      "metadata": {
        "id": "WuONahIPkcu0",
        "outputId": "dc0ad38e-14f2-486c-c22b-7d9f18892a80",
        "colab": {
          "base_uri": "https://localhost:8080/",
          "height": 54
        }
      },
      "source": [
        "sentence = 'گروه وبگردی باشگاه خبرنگاران جوان'\n",
        "\n",
        "ml1 = LanguageModel(train, n=1)\n",
        "print('UNI:\\t', ml1.generate(sentence, 1))\n",
        "\n",
        "ml2 = LanguageModel(train, n=2)\n",
        "print('BI:\\t', ml2.generate(sentence, 2))\n"
      ],
      "execution_count": null,
      "outputs": [
        {
          "output_type": "stream",
          "text": [
            "UNI:\t و\n",
            "BI:\t 2\n"
          ],
          "name": "stdout"
        }
      ]
    },
    {
      "cell_type": "code",
      "metadata": {
        "id": "oUzJRA-5ADiP",
        "outputId": "d8dbaf03-f1d5-4c6b-bed0-fb2121650d88",
        "colab": {
          "base_uri": "https://localhost:8080/",
          "height": 237
        }
      },
      "source": [
        "# calculate probabilities\n",
        "\n",
        "sentence = 'گروه وبگردی باشگاه خبرنگاران جوان'\n",
        "\n",
        "print('prob without smoothing', 'unigram')\n",
        "ml = LanguageModel(train, n=1)\n",
        "print(ml.prob(sentence, 1), '\\n')\n",
        "\n",
        "print('prob with smoothing', 'unigram')\n",
        "ml = LanguageModel(train, n=1, smoothing_type='laplace')\n",
        "print(ml.prob(sentence, 1), '\\n')\n",
        "\n",
        "print('prob without smoothing', 'bigram')\n",
        "ml = LanguageModel(train, n=2)\n",
        "print(ml.prob(sentence, 2), '\\n')\n",
        "\n",
        "print('prob with smoothing', 'bigram')\n",
        "ml = LanguageModel(train, n=2, smoothing_type='laplace')\n",
        "print(ml.prob(sentence, 2), '\\n')\n"
      ],
      "execution_count": null,
      "outputs": [
        {
          "output_type": "stream",
          "text": [
            "prob without smoothing unigram\n",
            "1.42942371523117e-19 \n",
            "\n",
            "prob with smoothing unigram\n",
            "1.1587493903101448e-21 \n",
            "\n",
            "prob without smoothing bigram\n",
            "0.0 \n",
            "\n",
            "prob with smoothing bigram\n",
            "3.74102217372605e-28 \n",
            "\n"
          ],
          "name": "stdout"
        }
      ]
    },
    {
      "cell_type": "code",
      "metadata": {
        "id": "spFyKrV9J3Wg",
        "outputId": "e830cc76-2c29-4054-bdf7-e3370f10e08b",
        "colab": {
          "base_uri": "https://localhost:8080/",
          "height": 72
        }
      },
      "source": [
        "# Create 3 language model \n",
        "\n",
        "ml1 = LanguageModel(train, n=1)\n",
        "uni, uni_table = ml1.train()\n",
        "print('number of uni_table: \\t', len(uni_table))\n",
        "\n",
        "ml2 = LanguageModel(train, n=2)\n",
        "bi, bi_table = ml2.train()\n",
        "print('number of bi_table: \\t', len(bi_table))\n",
        "\n",
        "ml3 = LanguageModel(train, n=3)\n",
        "tri, tri_table = ml3.train()\n",
        "print('number of tri_table: \\t', len(tri_table))"
      ],
      "execution_count": null,
      "outputs": [
        {
          "output_type": "stream",
          "text": [
            "number of uni_table: \t 34794\n",
            "number of bi_table: \t 166549\n",
            "number of tri_table: \t 257018\n"
          ],
          "name": "stdout"
        }
      ]
    }
  ]
}